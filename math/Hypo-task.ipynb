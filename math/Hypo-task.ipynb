{
 "cells": [
  {
   "cell_type": "code",
   "execution_count": 1,
   "id": "cf3929b5-1f6f-457f-93b9-48abde6bd8fd",
   "metadata": {},
   "outputs": [],
   "source": [
    "import bisect\n",
    "\n",
    "def generate_fn(pts):\n",
    "    assert(len(pts) % 2 == 1)\n",
    "    assert(all([pts[i] < pts[i+1] for i in range(len(pts)-1)]))\n",
    "    def simple_fn(t):\n",
    "        bisect.bisect_left(pts, t)\n",
    "        \n",
    "        pass\n",
    "    def fn(x, y):\n",
    "        return simple_fn(y-x) if y > x else 0\n",
    "    return fn"
   ]
  }
 ],
 "metadata": {
  "kernelspec": {
   "display_name": "Python 3 (ipykernel)",
   "language": "python",
   "name": "python3"
  },
  "language_info": {
   "codemirror_mode": {
    "name": "ipython",
    "version": 3
   },
   "file_extension": ".py",
   "mimetype": "text/x-python",
   "name": "python",
   "nbconvert_exporter": "python",
   "pygments_lexer": "ipython3",
   "version": "3.10.12"
  }
 },
 "nbformat": 4,
 "nbformat_minor": 5
}
