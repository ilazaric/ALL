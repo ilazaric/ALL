{
 "cells": [
  {
   "cell_type": "code",
   "execution_count": 3,
   "id": "cb333bde-a715-4f3b-8909-00d607125253",
   "metadata": {},
   "outputs": [],
   "source": [
    "import numpy as np\n",
    "import pandas as pd\n"
   ]
  },
  {
   "cell_type": "markdown",
   "id": "a5dfabea-8d5f-45bf-975e-76a1de3690cd",
   "metadata": {
    "scrolled": true
   },
   "source": [
    "Ex. 3.1 - looks stupid af, rote algebraic manipulation, skipping"
   ]
  },
  {
   "cell_type": "markdown",
   "id": "b7360c9b-749e-4471-8fc9-dff13adc8c01",
   "metadata": {},
   "source": [
    "Ex. 3.2\n",
    "\n",
    "but i dont know confidence intervals :'(\n",
    "\n",
    "first seems odd, we have few pts matching $x_0$ exactly  \n",
    "i like 2nd more, seems more robust  \n",
    "how do we even run 1st one as experiment? have to modify distribution heavily for it to even make sense"
   ]
  },
  {
   "cell_type": "markdown",
   "id": "fe47aef4-a5b7-40f1-becc-19442da209f5",
   "metadata": {},
   "source": [
    "Ex. 3.3\n",
    "\n",
    "Problem structure:  \n",
    "$$ y = X \\beta + \\varepsilon $$\n",
    "$$ \\mathbb{E} \\left[ \\varepsilon_i \\right] = 0 $$\n",
    "$$ \\mathrm{Var} \\left( \\varepsilon_i \\right) = \\sigma^2 < \\infty $$\n",
    "$$ \\mathrm{Cov} \\left( \\varepsilon_i , \\varepsilon_j \\right) = 0 $$\n",
    "\n",
    "Linear estimators:  \n",
    "$$ \\hat{\\beta}_j = \\sum{c_{ij} y_i} $$\n",
    "\n",
    "Unbiased linear estimators:  \n",
    "$$\\mathbb{E}\\left[ \\hat{\\beta} \\right] = \\beta $$\n",
    "\n",
    "Best linear unbiased estimator (BLUE): (wiki got wrong)  \n",
    "$$ \\mathbb{E} \\left[ \\sum\n",
    "\n",
    "Ordinary least squares estimator (OLS):  \n",
    "$$ \\hat{\\beta}=\\left( X^T X \\right)^{-1} X^T y $$\n",
    "\n",
    "Theorem: OLS is BLUE"
   ]
  },
  {
   "cell_type": "code",
   "execution_count": null,
   "id": "21d1fd2e-ea98-4bad-98f6-9dc1945e7a45",
   "metadata": {},
   "outputs": [],
   "source": []
  }
 ],
 "metadata": {
  "kernelspec": {
   "display_name": "Python 3 (ipykernel)",
   "language": "python",
   "name": "python3"
  },
  "language_info": {
   "codemirror_mode": {
    "name": "ipython",
    "version": 3
   },
   "file_extension": ".py",
   "mimetype": "text/x-python",
   "name": "python",
   "nbconvert_exporter": "python",
   "pygments_lexer": "ipython3",
   "version": "3.10.12"
  }
 },
 "nbformat": 4,
 "nbformat_minor": 5
}
