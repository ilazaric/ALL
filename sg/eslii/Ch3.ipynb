{
 "cells": [
  {
   "cell_type": "code",
   "execution_count": 156,
   "id": "11a8e4b6-cf3b-4b54-b7d6-9b65c2aa4709",
   "metadata": {},
   "outputs": [],
   "source": [
    "import numpy as np\n",
    "import pandas as pd\n",
    "import sklearn\n",
    "from sklearn.linear_model import LinearRegression\n",
    "sklearn.set_config(transform_output=\"pandas\")"
   ]
  },
  {
   "cell_type": "code",
   "execution_count": 157,
   "id": "2e8b429e-78e7-49c2-b884-c4561378ad40",
   "metadata": {},
   "outputs": [],
   "source": [
    "def split_data(data):\n",
    "    return (data.drop('lpsa', axis=1), data['lpsa'])\n",
    "\n",
    "data = pd.read_csv('prostate.data', sep='\\t')\n",
    "data = data.drop(data.columns[[0]], axis=1)\n",
    "data['Intercept'] = 1\n",
    "\n",
    "X, Y = split_data(data)\n",
    "X = X.drop('train', axis=1)\n",
    "globalmean = X.mean()\n",
    "globalmean['Intercept'] = 0\n",
    "globalsigma = X.std()\n",
    "globalsigma['Intercept'] = 1\n",
    "globalsigma\n",
    "\n",
    "for col in data.columns:\n",
    "    if col == 'lpsa': continue\n",
    "    if col == 'train': continue\n",
    "    data[col] = (data[col] - globalmean[col]) / globalsigma[col]"
   ]
  },
  {
   "cell_type": "code",
   "execution_count": 158,
   "id": "b1c58769-5e47-42bf-98fd-96aee48e27ec",
   "metadata": {},
   "outputs": [
    {
     "data": {
      "text/plain": [
       "lcavol       0\n",
       "lweight      0\n",
       "age          0\n",
       "lbph         0\n",
       "svi          0\n",
       "lcp          0\n",
       "gleason      0\n",
       "pgg45        0\n",
       "lpsa         0\n",
       "Intercept    0\n",
       "dtype: int64"
      ]
     },
     "execution_count": 158,
     "metadata": {},
     "output_type": "execute_result"
    }
   ],
   "source": [
    "train = data[data['train'] == 'T'].drop('train', axis=1)\n",
    "test = data[data['train'] == 'F'].drop('train', axis=1)\n",
    "train.isna().sum()"
   ]
  },
  {
   "cell_type": "code",
   "execution_count": 159,
   "id": "e1fb522d-2aa3-4a85-b30b-8b30d595033b",
   "metadata": {},
   "outputs": [
    {
     "name": "stdout",
     "output_type": "stream",
     "text": [
      "[ 0.67952814  0.26305307 -0.14146483  0.21014656  0.3052006  -0.28849277\n",
      " -0.02130504  0.26695576  2.46493292]\n"
     ]
    }
   ],
   "source": [
    "def generate_model(data):\n",
    "    X, Y = split_data(data)\n",
    "    # scaler = sklearn.preprocessing.StandardScaler()\n",
    "    # scaler.fit(X)\n",
    "    # X = scaler.transform(X)\n",
    "    # X = (X - globalmean) / globalsigma\n",
    "    # print(X)\n",
    "    model = LinearRegression(fit_intercept=False)\n",
    "    model.fit(X, Y)\n",
    "    return model\n",
    "model = generate_model(train)\n",
    "print(model.coef_)\n"
   ]
  },
  {
   "cell_type": "code",
   "execution_count": 160,
   "id": "127b3013-6c0e-4a30-b562-1ce27ab3bba1",
   "metadata": {},
   "outputs": [
    {
     "name": "stdout",
     "output_type": "stream",
     "text": [
      "sigma(train, model) = 0.7122860775034966\n",
      "sigma(test, model) = 0.8613790086829582\n",
      "MSE(train, model) = 0.662721486039448\n",
      "MSE(test, model) = 0.7206813842605795\n",
      "(Y - Ymean).std(ddof=0) = 1.024521002825409\n",
      "(Y - data[\"lpsa\"].mean()).std(ddof=0) = 1.0245210028254093\n",
      "67\n",
      "30\n",
      "97\n"
     ]
    }
   ],
   "source": [
    "def sigma(data, model):\n",
    "    X, Y = split_data(data)\n",
    "    # X = (X - globalmean) / globalsigma\n",
    "    Yhat = model.predict(X)\n",
    "    delta = Y - Yhat\n",
    "    return delta.std(ddof=9)\n",
    "\n",
    "def MSE(data, model):\n",
    "    X, Y = split_data(data)\n",
    "    # X = (X - globalmean) / globalsigma\n",
    "    Yhat = model.predict(X)\n",
    "    delta = Y - Yhat\n",
    "    return delta.std(ddof=0)\n",
    "\n",
    "model = generate_model(train)\n",
    "print(f'{sigma(train, model) = }')\n",
    "print(f'{sigma(test, model) = }')\n",
    "print(f'{MSE(train, model) = }')\n",
    "print(f'{MSE(test, model) = }')\n",
    "\n",
    "X, Y = split_data(train)\n",
    "Ymean = Y.mean()\n",
    "\n",
    "X, Y = split_data(test)\n",
    "\n",
    "\n",
    "print(f'{(Y - Ymean).std(ddof=0) = }')\n",
    "Ymean = data['lpsa'].mean()\n",
    "print(f'{(Y - data[\"lpsa\"].mean()).std(ddof=0) = }')\n",
    "\n",
    "print(len(train))\n",
    "print(len(test))\n",
    "print(len(data))"
   ]
  },
  {
   "cell_type": "code",
   "execution_count": 161,
   "id": "1c29bdb9-4c05-4b60-8e3a-034e9b7f3287",
   "metadata": {},
   "outputs": [
    {
     "name": "stdout",
     "output_type": "stream",
     "text": [
      "(67, 9)\n",
      "(9, 9)\n"
     ]
    },
    {
     "data": {
      "text/plain": [
       "array([0.03160513, 0.0180245 , 0.02024295, 0.02059466, 0.03011133,\n",
       "       0.04706662, 0.04158214, 0.04651042, 0.01572315])"
      ]
     },
     "execution_count": 161,
     "metadata": {},
     "output_type": "execute_result"
    }
   ],
   "source": [
    "X, Y = split_data(train)\n",
    "# X = (X - globalmean) / globalsigma\n",
    "Xmatrix = X.values\n",
    "print(Xmatrix.shape)\n",
    "XtX = np.matmul(Xmatrix.T, Xmatrix)\n",
    "print(XtX.shape)\n",
    "tmp = np.linalg.inv(XtX)\n",
    "# print(tmp)\n",
    "\n",
    "v = np.diag(tmp)\n",
    "v"
   ]
  },
  {
   "cell_type": "code",
   "execution_count": 162,
   "id": "48dd54cf-7a30-4028-b8e0-2a6331fd5f62",
   "metadata": {},
   "outputs": [
    {
     "name": "stdout",
     "output_type": "stream",
     "text": [
      "[ 5.36629046  2.75078939 -1.39590898  2.05584563  2.46925518 -1.86691264\n",
      " -0.14668121  1.73783972 27.59820312]\n",
      "0.7122860775034966\n",
      "[0.12662903 0.09562821 0.10134245 0.10221904 0.12360027 0.15452934\n",
      " 0.14524723 0.15361357 0.08931498]\n"
     ]
    }
   ],
   "source": [
    "z = model.coef_ / sigma(train, model) / np.sqrt(v)\n",
    "print(z)\n",
    "print(sigma(train, model))\n",
    "print(np.sqrt(v) * sigma(train, model))"
   ]
  },
  {
   "cell_type": "code",
   "execution_count": 175,
   "id": "e4467224-3fc4-4cea-9656-2c9c333bad7a",
   "metadata": {},
   "outputs": [
    {
     "name": "stdout",
     "output_type": "stream",
     "text": [
      "32.81499474881555 29.4263844599084\n",
      "4\n",
      "10\n"
     ]
    },
    {
     "data": {
      "text/plain": [
       "1.6697548846375199"
      ]
     },
     "execution_count": 175,
     "metadata": {},
     "output_type": "execute_result"
    }
   ],
   "source": [
    "params = ['age', 'lcp', 'gleason', 'pgg45']\n",
    "X, Y = split_data(train)\n",
    "reducedX = X.drop(params, axis=1)\n",
    "reducedX\n",
    "\n",
    "model1 = generate_model(train)\n",
    "model0 = LinearRegression(fit_intercept=False).fit(reducedX, Y)\n",
    "\n",
    "RSS0 = ((model0.predict(reducedX) - Y)**2).sum()\n",
    "RSS1 = ((model1.predict(X) - Y)**2).sum()\n",
    "\n",
    "print(RSS0, RSS1)\n",
    "\n",
    "print(len(params))\n",
    "print(len(train.columns))\n",
    "F = (RSS0 - RSS1) / len(params) / RSS1 * (len(train) - len(X.columns))\n",
    "F"
   ]
  },
  {
   "cell_type": "code",
   "execution_count": null,
   "id": "bf09e9b5-a1b6-4c98-b4e9-2c043087072e",
   "metadata": {},
   "outputs": [],
   "source": []
  }
 ],
 "metadata": {
  "kernelspec": {
   "display_name": "Python 3 (ipykernel)",
   "language": "python",
   "name": "python3"
  },
  "language_info": {
   "codemirror_mode": {
    "name": "ipython",
    "version": 3
   },
   "file_extension": ".py",
   "mimetype": "text/x-python",
   "name": "python",
   "nbconvert_exporter": "python",
   "pygments_lexer": "ipython3",
   "version": "3.10.12"
  }
 },
 "nbformat": 4,
 "nbformat_minor": 5
}
